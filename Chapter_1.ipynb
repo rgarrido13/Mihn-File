{
  "nbformat": 4,
  "nbformat_minor": 0,
  "metadata": {
    "colab": {
      "provenance": [],
      "authorship_tag": "ABX9TyM9nIznvOTuX0c3s+z1esQ9",
      "include_colab_link": true
    },
    "kernelspec": {
      "name": "python3",
      "display_name": "Python 3"
    },
    "language_info": {
      "name": "python"
    }
  },
  "cells": [
    {
      "cell_type": "markdown",
      "metadata": {
        "id": "view-in-github",
        "colab_type": "text"
      },
      "source": [
        "<a href=\"https://colab.research.google.com/github/rgarrido13/Mihn-File/blob/main/Chapter_1.ipynb\" target=\"_parent\"><img src=\"https://colab.research.google.com/assets/colab-badge.svg\" alt=\"Open In Colab\"/></a>"
      ]
    },
    {
      "cell_type": "code",
      "execution_count": 1,
      "metadata": {
        "id": "Slm6q3YkU7SU"
      },
      "outputs": [],
      "source": [
        "import networkx as nx # always import Networkx first!!\n",
        "G = nx.Graph()\n",
        "G.add_node(1)\n",
        "G.add_node(2)\n",
        "G.add_edge(1,2)"
      ]
    },
    {
      "cell_type": "markdown",
      "source": [
        "We can add several nodes or links at once:"
      ],
      "metadata": {
        "id": "Ny6_BYSpVRuI"
      }
    },
    {
      "cell_type": "code",
      "source": [
        "G.add_nodes_from([3,4,5,...]) \n",
        "G.add_edges_from([(3,4),(3,5)]) # edges = links "
      ],
      "metadata": {
        "id": "dq7eeNO3VXHb"
      },
      "execution_count": 9,
      "outputs": []
    },
    {
      "cell_type": "markdown",
      "source": [
        "Here is how we get lists of nodes, links, and neigborhoods of a given node:"
      ],
      "metadata": {
        "id": "PLYxvUDCVo0F"
      }
    },
    {
      "cell_type": "code",
      "source": [
        "G.nodes()\n",
        "G.edges()\n",
        "G.neighbors(3)"
      ],
      "metadata": {
        "colab": {
          "base_uri": "https://localhost:8080/"
        },
        "id": "hX55VykJVyMi",
        "outputId": "4b1fe891-7eff-4fd3-a9f0-79b4282fb0ef"
      },
      "execution_count": 8,
      "outputs": [
        {
          "output_type": "execute_result",
          "data": {
            "text/plain": [
              "<dict_keyiterator at 0x7f1d03659f40>"
            ]
          },
          "metadata": {},
          "execution_count": 8
        }
      ]
    },
    {
      "cell_type": "markdown",
      "source": [
        "Here is how you loop over nodes or links:"
      ],
      "metadata": {
        "id": "otlc8TM5epSW"
      }
    },
    {
      "cell_type": "code",
      "source": [
        "for n in G.nodes:\n",
        "  print(n, G.neighbors(n))\n",
        "for u,v in G.edges:\n",
        "  print(u,v)"
      ],
      "metadata": {
        "colab": {
          "base_uri": "https://localhost:8080/"
        },
        "id": "7QI4vdRQeqiG",
        "outputId": "099ca6a7-ab72-40c8-81fe-33feff352bb8"
      },
      "execution_count": 10,
      "outputs": [
        {
          "output_type": "stream",
          "name": "stdout",
          "text": [
            "1 <dict_keyiterator object at 0x7f1cfa9b2ea0>\n",
            "2 <dict_keyiterator object at 0x7f1cfa9b2ea0>\n",
            "3 <dict_keyiterator object at 0x7f1cfaa13630>\n",
            "4 <dict_keyiterator object at 0x7f1cfaa13630>\n",
            "5 <dict_keyiterator object at 0x7f1cfaa13630>\n",
            "Ellipsis <dict_keyiterator object at 0x7f1cfaa13630>\n",
            "1 2\n",
            "3 4\n",
            "3 5\n"
          ]
        }
      ]
    },
    {
      "cell_type": "markdown",
      "source": [
        "Similarly, we cna create a directed network (\"DiGraph\"):"
      ],
      "metadata": {
        "id": "u6b47uKJfFyO"
      }
    },
    {
      "cell_type": "code",
      "source": [
        "D = nx.DiGraph()\n",
        "D.add_edge(1,2)\n",
        "D.add_edge(2,1)\n",
        "D.add_edges_from([(2,3),(3,4)])"
      ],
      "metadata": {
        "id": "gVV4dYqxfNpR"
      },
      "execution_count": 14,
      "outputs": []
    },
    {
      "cell_type": "markdown",
      "source": [
        "Note that the link from node 1 to node 2 is distinct from the link from node 2 to node 1 because this network is directed. Also note that when we add a link, the nodes are added automatically if they don't already exist. this is convenient. there are functions for getting the size and number of links:"
      ],
      "metadata": {
        "id": "gePhEU-Nfutk"
      }
    },
    {
      "cell_type": "code",
      "source": [
        "D.number_of_edges()"
      ],
      "metadata": {
        "colab": {
          "base_uri": "https://localhost:8080/"
        },
        "id": "i11ozQkIgF2M",
        "outputId": "ba917352-b1d4-4b64-f09b-771174e0a801"
      },
      "execution_count": 17,
      "outputs": [
        {
          "output_type": "execute_result",
          "data": {
            "text/plain": [
              "4"
            ]
          },
          "metadata": {},
          "execution_count": 17
        }
      ]
    },
    {
      "cell_type": "code",
      "source": [
        "D.number_of_nodes()"
      ],
      "metadata": {
        "colab": {
          "base_uri": "https://localhost:8080/"
        },
        "id": "HrMfDhJ2gaVQ",
        "outputId": "b4fe787f-108e-4323-8dd2-9aa7d0882811"
      },
      "execution_count": 16,
      "outputs": [
        {
          "output_type": "execute_result",
          "data": {
            "text/plain": [
              "4"
            ]
          },
          "metadata": {},
          "execution_count": 16
        }
      ]
    },
    {
      "cell_type": "markdown",
      "source": [
        "In a direct network, when we ask for the neighbors of a node, we get both the nodes linking to and from it. But there are also functions to get only the edges linking to or from, respectively called predecessors and successors:"
      ],
      "metadata": {
        "id": "auxjBcKKgiE8"
      }
    },
    {
      "cell_type": "code",
      "source": [
        "D.neighbors(2)\n",
        "D.predecessors(2)\n",
        "D.successors(2)"
      ],
      "metadata": {
        "colab": {
          "base_uri": "https://localhost:8080/"
        },
        "id": "CtEpDohChAbl",
        "outputId": "fce2b917-0567-4b40-c0fb-6c28bfd3979f"
      },
      "execution_count": 19,
      "outputs": [
        {
          "output_type": "execute_result",
          "data": {
            "text/plain": [
              "<dict_keyiterator at 0x7f1cfa772e00>"
            ]
          },
          "metadata": {},
          "execution_count": 19
        }
      ]
    },
    {
      "cell_type": "markdown",
      "source": [
        "Finally, there are functions to generate networks of many types. Typically these functions need arguments that specify the number of nodes or links. Here is the code to generate a few networks:"
      ],
      "metadata": {
        "id": "p9W2c2B1hU7C"
      }
    },
    {
      "cell_type": "code",
      "source": [
        "B = nx.complete_bipartite_graph(4,5) # bipartite network: two columns of 4 nodes and 5 nodes, where each node from each column is linked to all the other nodes from the other column\n",
        "C = nx. cycle_graph(4) # 4 nodes linked as a square, 1 to 2; 2 to 3; 3 to 4; 4 to 1\n",
        "P = nx.path_graph(5) # 6 nodes linked in a line, 1 to 2; 2 to 3; 3 to 4; 4 to 5; 5 to 6\n",
        "S = nx.star_graph(6) # 1 central node linked to 5 other nodes, the 5 outside nodes are linked only linked ot the central node"
      ],
      "metadata": {
        "id": "jsvSccTZhknE"
      },
      "execution_count": 21,
      "outputs": []
    },
    {
      "cell_type": "markdown",
      "source": [
        "Find density of direct and undirect networks:"
      ],
      "metadata": {
        "id": "k3KK2zTmoPB2"
      }
    },
    {
      "cell_type": "code",
      "source": [
        "nx.density(G)"
      ],
      "metadata": {
        "colab": {
          "base_uri": "https://localhost:8080/"
        },
        "id": "0u-mUh4boJqO",
        "outputId": "623dce42-1e49-45c3-e3f8-c5bb343d5d20"
      },
      "execution_count": 22,
      "outputs": [
        {
          "output_type": "execute_result",
          "data": {
            "text/plain": [
              "0.2"
            ]
          },
          "metadata": {},
          "execution_count": 22
        }
      ]
    },
    {
      "cell_type": "code",
      "source": [
        "nx.density(D)"
      ],
      "metadata": {
        "colab": {
          "base_uri": "https://localhost:8080/"
        },
        "id": "fIJnFxvhoLwU",
        "outputId": "ac82841d-59db-446c-f3f1-4a80faf6c134"
      },
      "execution_count": 23,
      "outputs": [
        {
          "output_type": "execute_result",
          "data": {
            "text/plain": [
              "0.3333333333333333"
            ]
          },
          "metadata": {},
          "execution_count": 23
        }
      ]
    },
    {
      "cell_type": "code",
      "source": [
        "CG = nx.complete_graph(8471) # a large complete network\n",
        "print(nx.density(CG)) # no need for a claculator!!"
      ],
      "metadata": {
        "colab": {
          "base_uri": "https://localhost:8080/"
        },
        "id": "V2ArYOuPoU5J",
        "outputId": "0c08f854-57f3-4337-cc96-757647d26eba"
      },
      "execution_count": 24,
      "outputs": [
        {
          "output_type": "stream",
          "name": "stdout",
          "text": [
            "1.0\n"
          ]
        }
      ]
    },
    {
      "cell_type": "markdown",
      "source": [
        "We can generate a subnetwork of a given network by specifying a subset of nodes"
      ],
      "metadata": {
        "id": "nZ131abXp9MF"
      }
    },
    {
      "cell_type": "code",
      "source": [
        "K5 = nx.complete_graph(5)\n",
        "clique = nx.subgraph(K5, (0,1,2))\n",
        "print(K5)\n",
        "print(clique)"
      ],
      "metadata": {
        "colab": {
          "base_uri": "https://localhost:8080/"
        },
        "id": "-IbLXFYYo4cS",
        "outputId": "d3037c68-488c-4885-9557-3dd451d03253"
      },
      "execution_count": 28,
      "outputs": [
        {
          "output_type": "stream",
          "name": "stdout",
          "text": [
            "Graph with 5 nodes and 10 edges\n",
            "Graph with 3 nodes and 3 edges\n"
          ]
        }
      ]
    },
    {
      "cell_type": "markdown",
      "source": [
        "Return a dictionary with the degree of each node:"
      ],
      "metadata": {
        "id": "Vvkid6tGrpbZ"
      }
    },
    {
      "cell_type": "code",
      "source": [
        "G.degree(2) # returns the degree of node 2"
      ],
      "metadata": {
        "colab": {
          "base_uri": "https://localhost:8080/"
        },
        "id": "pc0riVbTqLll",
        "outputId": "ebda09d3-32d5-48c7-c58b-1228a12a7f0b"
      },
      "execution_count": 29,
      "outputs": [
        {
          "output_type": "execute_result",
          "data": {
            "text/plain": [
              "1"
            ]
          },
          "metadata": {},
          "execution_count": 29
        }
      ]
    },
    {
      "cell_type": "code",
      "source": [
        "G.degree() # returns the degree of all nodes of G"
      ],
      "metadata": {
        "colab": {
          "base_uri": "https://localhost:8080/"
        },
        "id": "lplxjEQ-r2tU",
        "outputId": "9a118c58-9cb5-4323-dbef-b112e4aeb16c"
      },
      "execution_count": 30,
      "outputs": [
        {
          "output_type": "execute_result",
          "data": {
            "text/plain": [
              "DegreeView({1: 1, 2: 1, 3: 2, 4: 1, 5: 1, Ellipsis: 0})"
            ]
          },
          "metadata": {},
          "execution_count": 30
        }
      ]
    },
    {
      "cell_type": "code",
      "source": [
        "S.degree() # returns the degree of all nodes of S"
      ],
      "metadata": {
        "colab": {
          "base_uri": "https://localhost:8080/"
        },
        "id": "i3JNgwT1r8DW",
        "outputId": "b755318b-25cd-403e-a5b5-0bf4b8b13eb4"
      },
      "execution_count": 31,
      "outputs": [
        {
          "output_type": "execute_result",
          "data": {
            "text/plain": [
              "DegreeView({0: 6, 1: 1, 2: 1, 3: 1, 4: 1, 5: 1, 6: 1})"
            ]
          },
          "metadata": {},
          "execution_count": 31
        }
      ]
    },
    {
      "cell_type": "markdown",
      "source": [
        "Function to return the in-degree and out-degree of a given node. if network is directed, the degree function will return the total degree, sum of both:"
      ],
      "metadata": {
        "id": "FboPqpLrtfgj"
      }
    },
    {
      "cell_type": "code",
      "source": [
        "D.in_degree(4)"
      ],
      "metadata": {
        "colab": {
          "base_uri": "https://localhost:8080/"
        },
        "id": "SLVegFXntvS9",
        "outputId": "5be190a0-e4b4-432a-eec7-ac92ac41af12"
      },
      "execution_count": 32,
      "outputs": [
        {
          "output_type": "execute_result",
          "data": {
            "text/plain": [
              "1"
            ]
          },
          "metadata": {},
          "execution_count": 32
        }
      ]
    },
    {
      "cell_type": "code",
      "source": [
        "D.out_degree(4)"
      ],
      "metadata": {
        "colab": {
          "base_uri": "https://localhost:8080/"
        },
        "id": "FOgcxwmktzDU",
        "outputId": "3baeca12-ca68-4570-e938-77ce7241eee1"
      },
      "execution_count": 34,
      "outputs": [
        {
          "output_type": "execute_result",
          "data": {
            "text/plain": [
              "0"
            ]
          },
          "metadata": {},
          "execution_count": 34
        }
      ]
    },
    {
      "cell_type": "code",
      "source": [
        "D.degree(4) # sum in and out"
      ],
      "metadata": {
        "colab": {
          "base_uri": "https://localhost:8080/"
        },
        "id": "F3y16KcNt1Ur",
        "outputId": "b0f64f38-2d7b-496a-a37b-36d6bcfe4fc5"
      },
      "execution_count": 35,
      "outputs": [
        {
          "output_type": "execute_result",
          "data": {
            "text/plain": [
              "1"
            ]
          },
          "metadata": {},
          "execution_count": 35
        }
      ]
    },
    {
      "cell_type": "markdown",
      "source": [
        "Weighted links:"
      ],
      "metadata": {
        "id": "6iWJYQOxvEB2"
      }
    },
    {
      "cell_type": "code",
      "source": [
        "W = nx.Graph()\n",
        "W.add_edge(1, 2, weight = 6)\n",
        "W.add_weighted_edges_from([(2,3,3),(2,4,5)])\n",
        "print(W)"
      ],
      "metadata": {
        "colab": {
          "base_uri": "https://localhost:8080/"
        },
        "id": "FzEnDlFcvG6j",
        "outputId": "c28840b2-4c16-42b2-dbde-1075cbe12dd6"
      },
      "execution_count": 44,
      "outputs": [
        {
          "output_type": "stream",
          "name": "stdout",
          "text": [
            "Graph with 4 nodes and 3 edges\n"
          ]
        }
      ]
    },
    {
      "cell_type": "markdown",
      "source": [
        "We can get a list of links with their associated weight data:"
      ],
      "metadata": {
        "id": "EPwRYVIRvdYb"
      }
    },
    {
      "cell_type": "code",
      "source": [
        "for (i,j,w) in W.edges(data = 'weight'):\n",
        "  if w > 3:\n",
        "    print('(%d, %d, %d)'% (i,j,w)) #skip link (2,3)"
      ],
      "metadata": {
        "colab": {
          "base_uri": "https://localhost:8080/"
        },
        "id": "fXKZcu2JviSS",
        "outputId": "bbd970cf-af9e-4f4d-acb7-7fcffe97f3e8"
      },
      "execution_count": 48,
      "outputs": [
        {
          "output_type": "stream",
          "name": "stdout",
          "text": [
            "(1, 2, 6)\n",
            "(2, 4, 5)\n"
          ]
        }
      ]
    },
    {
      "cell_type": "markdown",
      "source": [
        "Get the strength of a given node using the degree function and specifying the weight attribute:"
      ],
      "metadata": {
        "id": "iZ64UB1KwHkS"
      }
    },
    {
      "cell_type": "code",
      "source": [
        "W.degree(2, weight = 'weight') # strength of node 2\n",
        "                               # is 6 + 3 + 5 = 14; 6 is coming from 1 to 2; 3 is coming from 2 to 3; 5 is coming from 2 to 4"
      ],
      "metadata": {
        "colab": {
          "base_uri": "https://localhost:8080/"
        },
        "id": "vIZFWFYBwQo0",
        "outputId": "46c5fe4d-44d9-4322-9130-450d951ef947"
      },
      "execution_count": 47,
      "outputs": [
        {
          "output_type": "execute_result",
          "data": {
            "text/plain": [
              "14"
            ]
          },
          "metadata": {},
          "execution_count": 47
        }
      ]
    },
    {
      "cell_type": "code",
      "source": [],
      "metadata": {
        "id": "eefoHjJpweKP"
      },
      "execution_count": null,
      "outputs": []
    }
  ]
}